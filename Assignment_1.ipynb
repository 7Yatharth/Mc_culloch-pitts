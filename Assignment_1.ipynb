{
 "cells": [
  {
   "cell_type": "code",
   "execution_count": 1,
   "metadata": {},
   "outputs": [],
   "source": [
    "import numpy as np\n",
    "import pandas as pd"
   ]
  },
  {
   "cell_type": "code",
   "execution_count": 2,
   "metadata": {},
   "outputs": [],
   "source": [
    "def input(n):\n",
    "    if n == 1:\n",
    "        a = np.array([0,1])\n",
    "        return a\n",
    "    elif n == 2:\n",
    "        a = np.array([0,1,0,1])\n",
    "        b = np.array([0,0,1,1])\n",
    "        p = np.array([a,b])\n",
    "        return p \n",
    "    else:\n",
    "        return \"Invalid Input Numbers\""
   ]
  },
  {
   "cell_type": "code",
   "execution_count": 3,
   "metadata": {},
   "outputs": [],
   "source": [
    "def Mc_Culloch(n,k,T=0,w1=0,w2 = 0):\n",
    "    Sum = 0\n",
    "    I1 = 0\n",
    "    I2 = 0\n",
    "    I3 = 0\n",
    "    arr = np.array([])\n",
    "    if n == \"NOT GATE\":\n",
    "        for x in k:\n",
    "            Sum = Sum + (x*w1)\n",
    "            if Sum >= T:\n",
    "                arr = np.append(arr,1)\n",
    "            elif Sum < T:\n",
    "                arr = np.append(arr,0)\n",
    "            sum = 0\n",
    "        return arr\n",
    "    elif n == \"EXOR GATE\":\n",
    "        Tx = np.array([-1.5,0.5,1.5])\n",
    "        Wx = np.array([1,1,1,-1,-1,1])\n",
    "        for i in range(len(k)):\n",
    "            a = k[i-1]\n",
    "            b = k[i]\n",
    "        for i in range(len(a)):\n",
    "            I1 = I1 + (Wx[3]*a[i]) + (Wx[0]*b[i]) \n",
    "            I2 = I2 + (Wx[4]*a[i]) + (Wx[2]*b[i])\n",
    "            if I1 >= Tx[1]:\n",
    "                II1 = 1\n",
    "            else:\n",
    "                II1 = 0\n",
    "            if I2 >= Tx[0]:\n",
    "                II2 = 1\n",
    "            else:\n",
    "                II2 = 0\n",
    "            I3 = I3 + (Wx[1]*I1) + (Wx[5] * I2)\n",
    "            if I3 >= Tx[2]:\n",
    "                arr = np.append(arr,1)\n",
    "            elif I3 < Tx[2]:\n",
    "                arr = np.append(arr,0)\n",
    "            I3 = 0\n",
    "            I2 = 0\n",
    "            I1 = 0\n",
    "        return arr\n",
    "    else:\n",
    "        for i in range(len(k)):\n",
    "            a = k[i-1]\n",
    "            b = k[i]\n",
    "        for i in range(len(a)):\n",
    "            Sum = Sum + (w1*b[i]) + (w2*a[i])\n",
    "            if Sum >= T:\n",
    "                arr = np.append(arr,1)\n",
    "            elif Sum < T:\n",
    "                arr = np.append(arr,0)\n",
    "            sum = 0\n",
    "        return arr\n",
    "            \n",
    "        \n",
    "            \n",
    "            \n",
    "            \n",
    "        \n",
    "        "
   ]
  },
  {
   "cell_type": "code",
   "execution_count": 4,
   "metadata": {},
   "outputs": [
    {
     "data": {
      "text/plain": [
       "array([1., 0.])"
      ]
     },
     "execution_count": 4,
     "metadata": {},
     "output_type": "execute_result"
    }
   ],
   "source": [
    "Mc_Culloch(\"NOT GATE\",input(1),0,-1,-1)"
   ]
  },
  {
   "cell_type": "code",
   "execution_count": 5,
   "metadata": {},
   "outputs": [
    {
     "data": {
      "text/plain": [
       "array([0., 0., 0., 1.])"
      ]
     },
     "execution_count": 5,
     "metadata": {},
     "output_type": "execute_result"
    }
   ],
   "source": [
    "Mc_Culloch(\"AND GATE\",input(2),3,1,1)"
   ]
  },
  {
   "cell_type": "code",
   "execution_count": 6,
   "metadata": {},
   "outputs": [
    {
     "data": {
      "text/plain": [
       "array([0., 1., 1., 1.])"
      ]
     },
     "execution_count": 6,
     "metadata": {},
     "output_type": "execute_result"
    }
   ],
   "source": [
    "Mc_Culloch(\"OR GATE\",input(2),1,1,1)"
   ]
  },
  {
   "cell_type": "code",
   "execution_count": 7,
   "metadata": {},
   "outputs": [
    {
     "data": {
      "text/plain": [
       "array([1., 1., 1., 0.])"
      ]
     },
     "execution_count": 7,
     "metadata": {},
     "output_type": "execute_result"
    }
   ],
   "source": [
    "Mc_Culloch(\"NAND GATE\",input(2),-2,-1,-1)"
   ]
  },
  {
   "cell_type": "code",
   "execution_count": 8,
   "metadata": {},
   "outputs": [
    {
     "data": {
      "text/plain": [
       "array([1., 1., 1., 1.])"
      ]
     },
     "execution_count": 8,
     "metadata": {},
     "output_type": "execute_result"
    }
   ],
   "source": [
    "Mc_Culloch(\"NOR GATE\",input(2),0,1,1)"
   ]
  },
  {
   "cell_type": "code",
   "execution_count": 9,
   "metadata": {},
   "outputs": [
    {
     "data": {
      "text/plain": [
       "array([0., 0., 1., 0.])"
      ]
     },
     "execution_count": 9,
     "metadata": {},
     "output_type": "execute_result"
    }
   ],
   "source": [
    "Mc_Culloch(\"EXOR GATE\",input(2),1)"
   ]
  },
  {
   "cell_type": "code",
   "execution_count": null,
   "metadata": {},
   "outputs": [],
   "source": []
  },
  {
   "cell_type": "code",
   "execution_count": null,
   "metadata": {},
   "outputs": [],
   "source": []
  }
 ],
 "metadata": {
  "kernelspec": {
   "display_name": "Python 3",
   "language": "python",
   "name": "python3"
  },
  "language_info": {
   "codemirror_mode": {
    "name": "ipython",
    "version": 3
   },
   "file_extension": ".py",
   "mimetype": "text/x-python",
   "name": "python",
   "nbconvert_exporter": "python",
   "pygments_lexer": "ipython3",
   "version": "3.8.3"
  }
 },
 "nbformat": 4,
 "nbformat_minor": 4
}
